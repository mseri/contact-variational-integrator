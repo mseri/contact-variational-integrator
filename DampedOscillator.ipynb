{
 "cells": [
  {
   "cell_type": "markdown",
   "metadata": {},
   "source": [
    "## Initializations, module imports, and compatibility headers"
   ]
  },
  {
   "cell_type": "code",
   "execution_count": null,
   "metadata": {},
   "outputs": [],
   "source": [
    "# main python2 compatibility import\n",
    "from __future__ import print_function, division\n",
    "\n",
    "# sage compatibility\n",
    "%matplotlib inline\n",
    "\n",
    "import numpy as np\n",
    "\n",
    "import matplotlib.pyplot as plt\n",
    "#import seaborn as sns\n",
    "\n",
    "#sns.set(style=\"whitegrid\", font_scale=1.7)"
   ]
  },
  {
   "cell_type": "markdown",
   "metadata": {},
   "source": [
    "## Integrators\n",
    "\n",
    "The integrators are provided in the separate modules referred below.\n",
    "The source code can be found in the `integrators` folder"
   ]
  },
  {
   "cell_type": "code",
   "execution_count": null,
   "metadata": {},
   "outputs": [],
   "source": [
    "# RungeKutta4 for the damped harmonic oscillator\n",
    "# with dumping paramter a and regularized relative\n",
    "# error function\n",
    "from integrators.common import rk4, relerr\n",
    "\n",
    "# Symplectic integrators for the damped harmonic\n",
    "# oscillator with dumping parameter a\n",
    "from integrators.oscillator import euler, leapfrog, \\\n",
    "    ruth3 #, leapfrog2, pseudoleapfrog\n",
    "\n",
    "# Contact integrators as described in the paper\n",
    "# for the damped harmonic oscillator with dumping parameter a\n",
    "from integrators.oscillator import contact, symcontact, midpoint"
   ]
  },
  {
   "cell_type": "code",
   "execution_count": null,
   "metadata": {},
   "outputs": [],
   "source": [
    "from integrators.contact import dEL\n",
    "\n",
    "#def contact(init, tspan, a, timestep): \n",
    "#    integrate = dEL(lambda x0,x1,z0,z1,h: .5*((x1-x0)/h)**2 - .25*x0**2 - .25*x1**2 - a*z0)\n",
    "#    return integrate(init,tspan,timestep)\n",
    "\n",
    "#def symcontact(init, tspan, a, timestep): \n",
    "#    integrate = dEL(lambda x0,x1,z0,z1,h: .5*((x1-x0)/h)**2 - .25*x0**2 - .25*x1**2 - .5*a*z0 - .5*a*z1)\n",
    "#    return integrate(init,tspan,timestep)\n",
    "\n",
    "def contact4(init, tspan, a, timestep): \n",
    "    clag = lambda x,v,z: .5*v**2 - .5*x**2 - a*z\n",
    "    def lag(x0,x1,z0,z1,h):\n",
    "        vmid= (x1-x0)/h\n",
    "        xmid = .5*(x0+x1) - h**2/8 * (-.5*x0 - .5*x1 - a*vmid) \n",
    "        zmid = .5*(z0+z1) - h**2/8 * clag(.5*(x0+x1),vmid,.5*(z0+z1))\n",
    "        v0 = (-3*x0 + 4*xmid - x1)/h\n",
    "        v1 = (3*x1 - 4*xmid + x0)/h\n",
    "        return 1/6*clag(x0,v0,z0) + 2/3*clag(xmid,vmid,zmid) + 1/6*clag(x1,v1,z1)\n",
    "    integrate = dEL(lag, implicit=False)\n",
    "    return integrate(init,tspan,timestep)"
   ]
  },
  {
   "cell_type": "markdown",
   "metadata": {},
   "source": [
    "## Comparative plots generator"
   ]
  },
  {
   "cell_type": "code",
   "execution_count": null,
   "metadata": {},
   "outputs": [],
   "source": [
    "def cmp_plot(init, tspan, a, h, delta, save=False):\n",
    "    \n",
    "    # The reference solution is computed using the leapfrog\n",
    "    # algorithm with much finer error step\n",
    "    r = rk4(init, tspan, a, h/delta)\n",
    "\n",
    "    s1 = contact(init, tspan, a, h)\n",
    "    s2 = symcontact(init, tspan, a, h)\n",
    "    s3 = contact4(init, tspan, a, h)\n",
    "    s4 = leapfrog(init, tspan, a, h)\n",
    "    #s5 = leapfrog2(init, tspan, a, h)\n",
    "    s6 = ruth3(init, tspan, a, h)\n",
    "    s7 = rk4(init,tspan,a,h)\n",
    "    \n",
    "    timerange = np.arange(tspan[0], tspan[1], h)\n",
    "    ref = r[::delta,1]\n",
    "    \n",
    "    plt.figure(figsize=(20,10))\n",
    "    \n",
    "    plt.subplot(211)\n",
    "    plt.title(\"Solution for $h={}$, $\\\\alpha={}$, $(p_0,q_0)={}$\".\n",
    "              format(h, a, tuple(init))\n",
    "             )\n",
    "    #plt.plot(timerange, s1[:,1], label=\"Contact (1st)\", linestyle=\"--\")\n",
    "    #plt.plot(timerange, s2[:,1], label=\"Contact (2nd)\", linestyle=\"-.\")\n",
    "    plt.plot(timerange, s3[:,1], label=\"Contact (4th)\", linestyle=\"--\")\n",
    "    #plt.plot(timerange, s4[:,1], label=\"Leapfrog\", linestyle=\":\")\n",
    "    #plt.plot(timerange, s5[:,1], label=\"Leapfrog (single step)\", linestyle=\":\")\n",
    "    #plt.plot(timerange, s6[:,1], label=\"Ruth3\", linestyle=\":\")\n",
    "    plt.plot(timerange, s7[:,1], label=\"RK4\", linestyle=\"-\")\n",
    "    plt.plot(np.arange(tspan[0], tspan[1], h/delta), r[:,1],\n",
    "             label=\"Reference\", linestyle=\"-\")\n",
    "    plt.legend()\n",
    "    \n",
    "    plt.subplot(212)\n",
    "    plt.title(\"Relative Error\")\n",
    "    #plt.plot(timerange, relerr(ref,s1[:,1]), label=\"Contact (1st)\", linestyle=\"--\")\n",
    "    #plt.plot(timerange, relerr(ref,s2[:,1]), label=\"Contact (2nd)\", linestyle=\"-.\")\n",
    "    plt.plot(timerange, relerr(ref,s3[:,1]), label=\"Contact (4th)\", linestyle=\"--\")\n",
    "    #plt.plot(timerange, relerr(ref,s4[:,1]), label=\"Leapfrog\", linestyle=\":\")\n",
    "    #plt.plot(timerange, relerr(ref,s5[:,1]), label=\"Leapfrog (single step)\", linestyle=\":\")\n",
    "    #plt.plot(timerange, relerr(ref,s6[:,1]), label=\"Ruth3\", linestyle=\":\")\n",
    "    plt.plot(timerange, relerr(ref,s7[:,1]), label=\"RK4\", linestyle=\"-\")\n",
    "    plt.legend()\n",
    "\n",
    "    if save:\n",
    "        name = \"damped{}.pdf\".format(a)\n",
    "        plt.savefig(name, format=\"pdf\", transparent=True)\n",
    "    \n",
    "    plt.show()"
   ]
  },
  {
   "cell_type": "markdown",
   "metadata": {},
   "source": [
    "## Comparative Plots"
   ]
  },
  {
   "cell_type": "code",
   "execution_count": null,
   "metadata": {},
   "outputs": [],
   "source": [
    "init = (.5, .5)\n",
    "tspan = (0.0, 10.0)\n",
    "a = 0.1\n",
    "h = 0.1\n",
    "delta = 10\n",
    "\n",
    "cmp_plot(init, tspan, a, h, delta)"
   ]
  },
  {
   "cell_type": "code",
   "execution_count": null,
   "metadata": {
    "scrolled": false
   },
   "outputs": [],
   "source": [
    "#init = np.random.rand(2)\n",
    "init = (.75,-.25)\n",
    "delta = 10\n",
    "tspan = (0.0, 50.0)\n",
    "\n",
    "for a in [0,.01, 0.1, 1.0, 2.0]:\n",
    "    if a > .5:\n",
    "        tspan = (0.0, 15.0)\n",
    "    for h in [0.1]:\n",
    "        cmp_plot(init, tspan, a, h, delta) #, save=True)"
   ]
  },
  {
   "cell_type": "code",
   "execution_count": null,
   "metadata": {},
   "outputs": [],
   "source": []
  },
  {
   "cell_type": "code",
   "execution_count": null,
   "metadata": {},
   "outputs": [],
   "source": []
  }
 ],
 "metadata": {
  "kernelspec": {
   "display_name": "Python 3",
   "language": "python",
   "name": "python3"
  },
  "language_info": {
   "codemirror_mode": {
    "name": "ipython",
    "version": 3
   },
   "file_extension": ".py",
   "mimetype": "text/x-python",
   "name": "python",
   "nbconvert_exporter": "python",
   "pygments_lexer": "ipython3",
   "version": "3.6.5"
  }
 },
 "nbformat": 4,
 "nbformat_minor": 2
}
